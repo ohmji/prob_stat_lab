{
 "cells": [
  {
   "cell_type": "markdown",
   "id": "direct-engagement",
   "metadata": {},
   "source": [
    "Home Work 2  (Prob Stat) \n",
    "\n",
    "จิรวัฒน์ แก้วกุลบุตร (60010143)"
   ]
  },
  {
   "cell_type": "code",
   "execution_count": 1,
   "id": "impossible-battle",
   "metadata": {},
   "outputs": [
    {
     "name": "stdout",
     "output_type": "stream",
     "text": [
      "Hello Home Work 2 in (ProbStat)!\n"
     ]
    }
   ],
   "source": [
    "print(\"Hello Home Work 2 in (ProbStat)!\")\n"
   ]
  },
  {
   "cell_type": "code",
   "execution_count": 2,
   "id": "powerful-palmer",
   "metadata": {},
   "outputs": [],
   "source": [
    "import pandas as pd\n",
    "import stemgraphic \n",
    "import numpy as np\n",
    "import matplotlib.pyplot as plt"
   ]
  },
  {
   "cell_type": "code",
   "execution_count": 3,
   "id": "welsh-shower",
   "metadata": {},
   "outputs": [],
   "source": [
    "def estimate_gaussian(dataset):\n",
    "\n",
    "    mu = np.mean(dataset)#moyenne cf mu\n",
    "    sigma = np.std(dataset)#écart_type/standard deviation\n",
    "    limit = sigma * 0.2\n",
    "#     print(sigma)\n",
    "\n",
    "    min_threshold = mu - limit\n",
    "    max_threshold = mu + limit\n",
    "\n",
    "    return mu, sigma, min_threshold, max_threshold"
   ]
  },
  {
   "cell_type": "code",
   "execution_count": 4,
   "id": "still-infrared",
   "metadata": {},
   "outputs": [
    {
     "name": "stdout",
     "output_type": "stream",
     "text": [
      "row size and column size : (14710, 16)\n"
     ]
    },
    {
     "data": {
      "text/html": [
       "<div>\n",
       "<style scoped>\n",
       "    .dataframe tbody tr th:only-of-type {\n",
       "        vertical-align: middle;\n",
       "    }\n",
       "\n",
       "    .dataframe tbody tr th {\n",
       "        vertical-align: top;\n",
       "    }\n",
       "\n",
       "    .dataframe thead th {\n",
       "        text-align: right;\n",
       "    }\n",
       "</style>\n",
       "<table border=\"1\" class=\"dataframe\">\n",
       "  <thead>\n",
       "    <tr style=\"text-align: right;\">\n",
       "      <th></th>\n",
       "      <th>iso_code</th>\n",
       "      <th>location</th>\n",
       "      <th>date</th>\n",
       "      <th>total_cases</th>\n",
       "      <th>new_cases</th>\n",
       "      <th>total_deaths</th>\n",
       "      <th>new_deaths</th>\n",
       "      <th>total_cases_per_million</th>\n",
       "      <th>new_cases_per_million</th>\n",
       "      <th>total_deaths_per_million</th>\n",
       "      <th>new_deaths_per_million</th>\n",
       "      <th>total_tests</th>\n",
       "      <th>new_tests</th>\n",
       "      <th>total_tests_per_thousand</th>\n",
       "      <th>new_tests_per_thousand</th>\n",
       "      <th>tests_units</th>\n",
       "    </tr>\n",
       "  </thead>\n",
       "  <tbody>\n",
       "    <tr>\n",
       "      <th>0</th>\n",
       "      <td>ABW</td>\n",
       "      <td>Aruba</td>\n",
       "      <td>2020-03-13</td>\n",
       "      <td>2</td>\n",
       "      <td>2</td>\n",
       "      <td>0</td>\n",
       "      <td>0</td>\n",
       "      <td>18.733</td>\n",
       "      <td>18.733</td>\n",
       "      <td>0.0</td>\n",
       "      <td>0.0</td>\n",
       "      <td>NaN</td>\n",
       "      <td>NaN</td>\n",
       "      <td>NaN</td>\n",
       "      <td>NaN</td>\n",
       "      <td>NaN</td>\n",
       "    </tr>\n",
       "    <tr>\n",
       "      <th>1</th>\n",
       "      <td>ABW</td>\n",
       "      <td>Aruba</td>\n",
       "      <td>2020-03-20</td>\n",
       "      <td>4</td>\n",
       "      <td>2</td>\n",
       "      <td>0</td>\n",
       "      <td>0</td>\n",
       "      <td>37.465</td>\n",
       "      <td>18.733</td>\n",
       "      <td>0.0</td>\n",
       "      <td>0.0</td>\n",
       "      <td>NaN</td>\n",
       "      <td>NaN</td>\n",
       "      <td>NaN</td>\n",
       "      <td>NaN</td>\n",
       "      <td>NaN</td>\n",
       "    </tr>\n",
       "    <tr>\n",
       "      <th>2</th>\n",
       "      <td>ABW</td>\n",
       "      <td>Aruba</td>\n",
       "      <td>2020-03-24</td>\n",
       "      <td>12</td>\n",
       "      <td>8</td>\n",
       "      <td>0</td>\n",
       "      <td>0</td>\n",
       "      <td>112.395</td>\n",
       "      <td>74.930</td>\n",
       "      <td>0.0</td>\n",
       "      <td>0.0</td>\n",
       "      <td>NaN</td>\n",
       "      <td>NaN</td>\n",
       "      <td>NaN</td>\n",
       "      <td>NaN</td>\n",
       "      <td>NaN</td>\n",
       "    </tr>\n",
       "    <tr>\n",
       "      <th>3</th>\n",
       "      <td>ABW</td>\n",
       "      <td>Aruba</td>\n",
       "      <td>2020-03-25</td>\n",
       "      <td>17</td>\n",
       "      <td>5</td>\n",
       "      <td>0</td>\n",
       "      <td>0</td>\n",
       "      <td>159.227</td>\n",
       "      <td>46.831</td>\n",
       "      <td>0.0</td>\n",
       "      <td>0.0</td>\n",
       "      <td>NaN</td>\n",
       "      <td>NaN</td>\n",
       "      <td>NaN</td>\n",
       "      <td>NaN</td>\n",
       "      <td>NaN</td>\n",
       "    </tr>\n",
       "    <tr>\n",
       "      <th>4</th>\n",
       "      <td>ABW</td>\n",
       "      <td>Aruba</td>\n",
       "      <td>2020-03-26</td>\n",
       "      <td>19</td>\n",
       "      <td>2</td>\n",
       "      <td>0</td>\n",
       "      <td>0</td>\n",
       "      <td>177.959</td>\n",
       "      <td>18.733</td>\n",
       "      <td>0.0</td>\n",
       "      <td>0.0</td>\n",
       "      <td>NaN</td>\n",
       "      <td>NaN</td>\n",
       "      <td>NaN</td>\n",
       "      <td>NaN</td>\n",
       "      <td>NaN</td>\n",
       "    </tr>\n",
       "  </tbody>\n",
       "</table>\n",
       "</div>"
      ],
      "text/plain": [
       "  iso_code location        date  total_cases  new_cases  total_deaths  \\\n",
       "0      ABW    Aruba  2020-03-13            2          2             0   \n",
       "1      ABW    Aruba  2020-03-20            4          2             0   \n",
       "2      ABW    Aruba  2020-03-24           12          8             0   \n",
       "3      ABW    Aruba  2020-03-25           17          5             0   \n",
       "4      ABW    Aruba  2020-03-26           19          2             0   \n",
       "\n",
       "   new_deaths  total_cases_per_million  new_cases_per_million  \\\n",
       "0           0                   18.733                 18.733   \n",
       "1           0                   37.465                 18.733   \n",
       "2           0                  112.395                 74.930   \n",
       "3           0                  159.227                 46.831   \n",
       "4           0                  177.959                 18.733   \n",
       "\n",
       "   total_deaths_per_million  new_deaths_per_million  total_tests  new_tests  \\\n",
       "0                       0.0                     0.0          NaN        NaN   \n",
       "1                       0.0                     0.0          NaN        NaN   \n",
       "2                       0.0                     0.0          NaN        NaN   \n",
       "3                       0.0                     0.0          NaN        NaN   \n",
       "4                       0.0                     0.0          NaN        NaN   \n",
       "\n",
       "   total_tests_per_thousand  new_tests_per_thousand tests_units  \n",
       "0                       NaN                     NaN         NaN  \n",
       "1                       NaN                     NaN         NaN  \n",
       "2                       NaN                     NaN         NaN  \n",
       "3                       NaN                     NaN         NaN  \n",
       "4                       NaN                     NaN         NaN  "
      ]
     },
     "execution_count": 4,
     "metadata": {},
     "output_type": "execute_result"
    }
   ],
   "source": [
    "data = pd.read_csv(\"E:\\Development\\Prob Stat\\HW2\\covid-testing-xlsx-2_csv.csv\")\n",
    "print(\"row size and column size :\",data.shape)\n",
    "data.head()"
   ]
  },
  {
   "cell_type": "code",
   "execution_count": 5,
   "id": "stretch-spread",
   "metadata": {},
   "outputs": [
    {
     "name": "stdout",
     "output_type": "stream",
     "text": [
      "size of column Data 16\n",
      "id: 0 name of column : iso_code\n",
      "id: 1 name of column : location\n",
      "id: 2 name of column : date\n",
      "id: 3 name of column : total_cases\n",
      "id: 4 name of column : new_cases\n",
      "id: 5 name of column : total_deaths\n",
      "id: 6 name of column : new_deaths\n",
      "id: 7 name of column : total_cases_per_million\n",
      "id: 8 name of column : new_cases_per_million\n",
      "id: 9 name of column : total_deaths_per_million\n",
      "id: 10 name of column : new_deaths_per_million\n",
      "id: 11 name of column : total_tests\n",
      "id: 12 name of column : new_tests\n",
      "id: 13 name of column : total_tests_per_thousand\n",
      "id: 14 name of column : new_tests_per_thousand\n",
      "id: 15 name of column : tests_units\n"
     ]
    },
    {
     "data": {
      "text/plain": [
       "['location', 'date', 'total_cases', 'new_cases', 'total_deaths', 'new_deaths']"
      ]
     },
     "execution_count": 5,
     "metadata": {},
     "output_type": "execute_result"
    }
   ],
   "source": [
    "#เลือก Column เพื่อนำมาสร้าง DataFrame ใหม่ นำมาเฉพาะข้อมูลที่สนใจ\n",
    "columns = list(data.columns)\n",
    "print(\"size of column Data\",len(columns))\n",
    "index=0\n",
    "for i in columns :\n",
    "    print('id:',index,'name of column :',i)\n",
    "    index+=1\n",
    "    \n",
    "useIdColumn = [1,2,3,4,5,6]\n",
    "useColumn = []\n",
    "for i in useIdColumn :\n",
    "        useColumn.append(columns[i])\n",
    "useColumn"
   ]
  },
  {
   "cell_type": "code",
   "execution_count": 6,
   "id": "romance-proposition",
   "metadata": {},
   "outputs": [
    {
     "data": {
      "text/html": [
       "<div>\n",
       "<style scoped>\n",
       "    .dataframe tbody tr th:only-of-type {\n",
       "        vertical-align: middle;\n",
       "    }\n",
       "\n",
       "    .dataframe tbody tr th {\n",
       "        vertical-align: top;\n",
       "    }\n",
       "\n",
       "    .dataframe thead th {\n",
       "        text-align: right;\n",
       "    }\n",
       "</style>\n",
       "<table border=\"1\" class=\"dataframe\">\n",
       "  <thead>\n",
       "    <tr style=\"text-align: right;\">\n",
       "      <th></th>\n",
       "      <th>location</th>\n",
       "      <th>date</th>\n",
       "      <th>total_cases</th>\n",
       "      <th>new_cases</th>\n",
       "      <th>total_deaths</th>\n",
       "      <th>new_deaths</th>\n",
       "    </tr>\n",
       "  </thead>\n",
       "  <tbody>\n",
       "    <tr>\n",
       "      <th>0</th>\n",
       "      <td>Aruba</td>\n",
       "      <td>2020-03-13</td>\n",
       "      <td>2</td>\n",
       "      <td>2</td>\n",
       "      <td>0</td>\n",
       "      <td>0</td>\n",
       "    </tr>\n",
       "    <tr>\n",
       "      <th>1</th>\n",
       "      <td>Aruba</td>\n",
       "      <td>2020-03-20</td>\n",
       "      <td>4</td>\n",
       "      <td>2</td>\n",
       "      <td>0</td>\n",
       "      <td>0</td>\n",
       "    </tr>\n",
       "    <tr>\n",
       "      <th>2</th>\n",
       "      <td>Aruba</td>\n",
       "      <td>2020-03-24</td>\n",
       "      <td>12</td>\n",
       "      <td>8</td>\n",
       "      <td>0</td>\n",
       "      <td>0</td>\n",
       "    </tr>\n",
       "    <tr>\n",
       "      <th>3</th>\n",
       "      <td>Aruba</td>\n",
       "      <td>2020-03-25</td>\n",
       "      <td>17</td>\n",
       "      <td>5</td>\n",
       "      <td>0</td>\n",
       "      <td>0</td>\n",
       "    </tr>\n",
       "    <tr>\n",
       "      <th>4</th>\n",
       "      <td>Aruba</td>\n",
       "      <td>2020-03-26</td>\n",
       "      <td>19</td>\n",
       "      <td>2</td>\n",
       "      <td>0</td>\n",
       "      <td>0</td>\n",
       "    </tr>\n",
       "  </tbody>\n",
       "</table>\n",
       "</div>"
      ],
      "text/plain": [
       "  location        date  total_cases  new_cases  total_deaths  new_deaths\n",
       "0    Aruba  2020-03-13            2          2             0           0\n",
       "1    Aruba  2020-03-20            4          2             0           0\n",
       "2    Aruba  2020-03-24           12          8             0           0\n",
       "3    Aruba  2020-03-25           17          5             0           0\n",
       "4    Aruba  2020-03-26           19          2             0           0"
      ]
     },
     "execution_count": 6,
     "metadata": {},
     "output_type": "execute_result"
    }
   ],
   "source": [
    "dataFrame = data[useColumn]\n",
    "dataFrame.head()"
   ]
  },
  {
   "cell_type": "code",
   "execution_count": 7,
   "id": "hindu-cinema",
   "metadata": {},
   "outputs": [
    {
     "name": "stdout",
     "output_type": "stream",
     "text": [
      "จำนวนวันที่รายงานของผู้ติดเชื้อในแต่ล่ะประเทศ /วัน : location\n",
      "Afghanistan       114\n",
      "Albania            55\n",
      "Algeria           119\n",
      "Andorra            50\n",
      "Angola             42\n",
      "                 ... \n",
      "Western Sahara      7\n",
      "World             124\n",
      "Yemen              23\n",
      "Zambia             45\n",
      "Zimbabwe           44\n",
      "Length: 211, dtype: int64\n",
      "ค่าฐานนิยมจำนวนวันที่รายงานของผู้ติดเชื้อในแต่ล่ะประเทศ (Mode) : 124\n",
      "ค่าฐานนิยมผู้ป่วยใหม่ทั้งหมด ในแต่ล่ะประเทศ(Mode) : 6547\n"
     ]
    }
   ],
   "source": [
    "total_cases = dataFrame.pivot_table(index=['location'], aggfunc='size')\n",
    "modetotal_cases = max(list(total_cases))\n",
    "print(\"จำนวนวันที่รายงานของผู้ติดเชื้อในแต่ล่ะประเทศ /วัน :\",total_cases)\n",
    "print(\"ค่าฐานนิยมจำนวนวันที่รายงานของผู้ติดเชื้อในแต่ล่ะประเทศ (Mode) :\",modetotal_cases)\n",
    "new_cases = dataFrame.pivot_table(index=['new_cases'], aggfunc='size')\n",
    "modeNew_cases= max(list(new_cases))\n",
    "print(\"ค่าฐานนิยมผู้ป่วยใหม่ทั้งหมด ในแต่ล่ะประเทศ(Mode) :\",modeNew_cases)\n"
   ]
  },
  {
   "cell_type": "code",
   "execution_count": 8,
   "id": "renewable-participant",
   "metadata": {},
   "outputs": [
    {
     "name": "stdout",
     "output_type": "stream",
     "text": [
      "จำนวนผู้ติดเชื้อ : (max = 3307600 min = 0 min mean = 10338.379606)\n",
      "จำนวนผู้ติดเชื้อใหม่ : (max = 101716 min = -1430 min mean = 449.707682)\n",
      "จำนวนผู้ผู้เสีย : (max = 238431 min = 0 min mean = 665.024609)\n",
      "จำนวนผู้ผู้เสียใหม่ : (max = 10520 min = 0 min mean = 32.417539)\n"
     ]
    }
   ],
   "source": [
    "#max min mean ช่วงอายุของผู้ใช้งาน\n",
    "\n",
    "max_total_cases = dataFrame['total_cases'].max()\n",
    "min_total_cases = dataFrame['total_cases'].min()\n",
    "mean_total_cases = dataFrame['total_cases'].mean()\n",
    "print(\"จำนวนผู้ติดเชื้อ : (max = %d\"%max_total_cases,\"min = %d\"%min_total_cases,\"min mean = %.6f)\"%mean_total_cases)\n",
    "\n",
    "#max min mean ช่วงจำนวนของรูปภาพประจำผู้ใช้งาน\n",
    "\n",
    "max_new_cases = dataFrame['new_cases'].max()\n",
    "min_new_cases = dataFrame['new_cases'].min()\n",
    "mean_new_cases = dataFrame['new_cases'].mean()\n",
    "print(\"จำนวนผู้ติดเชื้อใหม่ : (max = %d\"%max_new_cases,\"min = %d\"%min_new_cases,\"min mean = %.6f)\"%mean_new_cases)\n",
    "\n",
    "#max min mean ช่วงจำนวนผู้เข้าชม my profile ของผู้ใช้งาน\n",
    "\n",
    "max_total_deaths = dataFrame['total_deaths'].max()\n",
    "min_total_deaths = dataFrame['total_deaths'].min()\n",
    "mean_total_deaths = dataFrame['total_deaths'].mean()\n",
    "print(\"จำนวนผู้ผู้เสีย : (max = %d\"%max_total_deaths,\"min = %d\"%min_total_deaths,\"min mean = %.6f)\"%mean_total_deaths)\n",
    "\n",
    "\n",
    "max_new_deaths = dataFrame['new_deaths'].max()\n",
    "min_new_deaths = dataFrame['new_deaths'].min()\n",
    "mean_new_deaths = dataFrame['new_deaths'].mean()\n",
    "print(\"จำนวนผู้ผู้เสียใหม่ : (max = %d\"%max_new_deaths,\"min = %d\"%min_new_deaths,\"min mean = %.6f)\"%mean_new_deaths)\n"
   ]
  },
  {
   "cell_type": "code",
   "execution_count": 9,
   "id": "tested-rogers",
   "metadata": {},
   "outputs": [
    {
     "data": {
      "text/plain": [
       "total_cases     109779.329275\n",
       "new_cases         4261.794616\n",
       "total_deaths      7600.146515\n",
       "new_deaths         331.161869\n",
       "dtype: float64"
      ]
     },
     "execution_count": 9,
     "metadata": {},
     "output_type": "execute_result"
    }
   ],
   "source": [
    "dStd = dataFrame[['total_cases','new_cases','total_deaths','new_deaths']]\n",
    "dStd.std(axis = 0, skipna = True) "
   ]
  },
  {
   "cell_type": "code",
   "execution_count": 10,
   "id": "animated-hotel",
   "metadata": {},
   "outputs": [
    {
     "name": "stdout",
     "output_type": "stream",
     "text": [
      "['total_cases', 'new_cases', 'total_deaths', 'new_deaths']\n"
     ]
    },
    {
     "data": {
      "image/png": "[encoded data removed]",
      "text/plain": [
       "<Figure size 1080x1440 with 4 Axes>"
      ]
     },
     "metadata": {
      "needs_background": "light"
     },
     "output_type": "display_data"
    }
   ],
   "source": [
    "useIdColumn = [3,4,5,6]\n",
    "useColumn = []\n",
    "for i in useIdColumn :\n",
    "        useColumn.append(columns[i])\n",
    "print(useColumn)\n",
    "dataFrame = data[useColumn]\n",
    "dataFrame.head()\n",
    "hist = dataFrame.hist(figsize = (15,20))\n"
   ]
  },
  {
   "cell_type": "code",
   "execution_count": 11,
   "id": "alien-savage",
   "metadata": {},
   "outputs": [
    {
     "data": {
      "image/png": "[encoded data removed]",
      "text/plain": [
       "<Figure size 1152x576 with 1 Axes>"
      ]
     },
     "metadata": {
      "needs_background": "light"
     },
     "output_type": "display_data"
    }
   ],
   "source": [
    "dataFrame = data[useColumn]\n",
    "boxplot = dataFrame.boxplot(figsize = (16,8))"
   ]
  },
  {
   "cell_type": "code",
   "execution_count": 21,
   "id": "mounted-alcohol",
   "metadata": {},
   "outputs": [
    {
     "name": "stdout",
     "output_type": "stream",
     "text": [
      "Stem and Leaf with column : date\n"
     ]
    },
    {
     "name": "stderr",
     "output_type": "stream",
     "text": [
      "c:\\users\\aaa-29122562\\appdata\\local\\programs\\python\\python39\\lib\\site-packages\\stemgraphic\\text.py:455: UserWarning: Column data appears to be non numerical. Specify a numeric column.\n",
      "  warn(\"Column data appears to be non numerical. Specify a numeric column.\")\n"
     ]
    },
    {
     "ename": "TypeError",
     "evalue": "cannot unpack non-iterable NoneType object",
     "output_type": "error",
     "traceback": [
      "\u001b[1;31m---------------------------------------------------------------------------\u001b[0m",
      "\u001b[1;31mTypeError\u001b[0m                                 Traceback (most recent call last)",
      "\u001b[1;32m<ipython-input-21-66c803d64d5e>\u001b[0m in \u001b[0;36m<module>\u001b[1;34m\u001b[0m\n\u001b[0;32m      3\u001b[0m     \u001b[0mstemData\u001b[0m \u001b[1;33m=\u001b[0m \u001b[0mpd\u001b[0m\u001b[1;33m.\u001b[0m\u001b[0mSeries\u001b[0m\u001b[1;33m(\u001b[0m\u001b[0mListData\u001b[0m\u001b[1;33m)\u001b[0m\u001b[1;33m\u001b[0m\u001b[1;33m\u001b[0m\u001b[0m\n\u001b[0;32m      4\u001b[0m     \u001b[0mprint\u001b[0m \u001b[1;33m(\u001b[0m\u001b[1;34m\"Stem and Leaf with column :\"\u001b[0m\u001b[1;33m,\u001b[0m\u001b[0museColumn\u001b[0m\u001b[1;33m[\u001b[0m\u001b[0mi\u001b[0m\u001b[1;33m]\u001b[0m\u001b[1;33m)\u001b[0m\u001b[1;33m\u001b[0m\u001b[1;33m\u001b[0m\u001b[0m\n\u001b[1;32m----> 5\u001b[1;33m     \u001b[0mprint\u001b[0m\u001b[1;33m(\u001b[0m\u001b[0mstemgraphic\u001b[0m\u001b[1;33m.\u001b[0m\u001b[0mstem_graphic\u001b[0m\u001b[1;33m(\u001b[0m\u001b[0mstemData\u001b[0m\u001b[1;33m)\u001b[0m\u001b[1;33m)\u001b[0m\u001b[1;33m\u001b[0m\u001b[1;33m\u001b[0m\u001b[0m\n\u001b[0m\u001b[0;32m      6\u001b[0m \u001b[1;31m# print(ageList)\u001b[0m\u001b[1;33m\u001b[0m\u001b[1;33m\u001b[0m\u001b[1;33m\u001b[0m\u001b[0m\n",
      "\u001b[1;32mc:\\users\\aaa-29122562\\appdata\\local\\programs\\python\\python39\\lib\\site-packages\\stemgraphic\\graphic.py\u001b[0m in \u001b[0;36mstem_graphic\u001b[1;34m(df, df2, aggregation, alpha, asc, ax, ax2, bar_color, bar_outline, break_on, column, combined, compact, delimiter_color, display, figure_only, flip_axes, font_kw, leaf_color, leaf_order, legend_pos, median_alpha, median_color, mirror, outliers, outliers_color, persistence, primary_kw, random_state, scale, secondary, secondary_kw, secondary_plot, show_stem, title, trim, trim_blank, underline_color, unit, zoom)\u001b[0m\n\u001b[0;32m    727\u001b[0m         \u001b[1;32mreturn\u001b[0m \u001b[1;32mNone\u001b[0m\u001b[1;33m,\u001b[0m \u001b[1;32mNone\u001b[0m\u001b[1;33m\u001b[0m\u001b[1;33m\u001b[0m\u001b[0m\n\u001b[0;32m    728\u001b[0m \u001b[1;33m\u001b[0m\u001b[0m\n\u001b[1;32m--> 729\u001b[1;33m     scale_factor, pair, rows, _, stems = stem_data(\n\u001b[0m\u001b[0;32m    730\u001b[0m         \u001b[0mdf\u001b[0m\u001b[1;33m,\u001b[0m\u001b[1;33m\u001b[0m\u001b[1;33m\u001b[0m\u001b[0m\n\u001b[0;32m    731\u001b[0m         \u001b[0mbreak_on\u001b[0m\u001b[1;33m=\u001b[0m\u001b[0mbreak_on\u001b[0m\u001b[1;33m,\u001b[0m\u001b[1;33m\u001b[0m\u001b[1;33m\u001b[0m\u001b[0m\n",
      "\u001b[1;31mTypeError\u001b[0m: cannot unpack non-iterable NoneType object"
     ]
    }
   ],
   "source": [
    "for i in range(0,2) :\n",
    "    ListData = dataFrame[useColumn[i]].values.tolist()\n",
    "    stemData = pd.Series(ListData)\n",
    "    print (\"Stem and Leaf with column :\",useColumn[i])\n",
    "    print(stemgraphic.stem_graphic(stemData))\n",
    "# print(ageList)"
   ]
  },
  {
   "cell_type": "code",
   "execution_count": 20,
   "id": "cultural-length",
   "metadata": {
    "scrolled": true
   },
   "outputs": [
    {
     "name": "stdout",
     "output_type": "stream",
     "text": [
      "['date', 'total_cases', 'new_cases', 'total_deaths', 'new_deaths']\n"
     ]
    },
    {
     "data": {
      "image/png": "[encoded data removed]",
      "text/plain": [
       "<Figure size 1152x288 with 1 Axes>"
      ]
     },
     "metadata": {
      "needs_background": "light"
     },
     "output_type": "display_data"
    }
   ],
   "source": [
    "useColumn = []\n",
    "for i in useIdColumn :\n",
    "        useColumn.append(columns[i])\n",
    "print(useColumn)\n",
    "dataFrame = data[useColumn]\n",
    "\n",
    "mu, sigma, min_threshold, max_threshold = estimate_gaussian(dataFrame['total_cases'].values)\n",
    "condition1 = (dataFrame['total_cases'] < min_threshold)\n",
    "condition2 = (dataFrame['total_cases'] > max_threshold)\n",
    "\n",
    "outliers = np.extract(condition2, dataFrame['total_cases'])\n",
    "dfTime = pd.to_datetime(dataFrame['date'],format= '%Y-%m-%d' )\n",
    "\n",
    "# df_red = dataFrame[dataFrame['total_cases'].values==outliers]\n",
    "# df\n",
    "\n",
    "plt.scatter(dfTime,dataFrame['total_cases'])\n",
    "# plt.scatter(df_red['total_cases'],df_red['date'],c='red')\n",
    "plt.xlabel(\"date\")\n",
    "plt.ylabel(\"total_cases\")\n",
    "show = plt.rcParams[\"figure.figsize\"] = (16,4)\n",
    "\n"
   ]
  },
  {
   "cell_type": "code",
   "execution_count": 18,
   "id": "funded-fence",
   "metadata": {},
   "outputs": [
    {
     "data": {
      "image/png": "[encoded data removed]",
      "text/plain": [
       "<Figure size 1152x576 with 1 Axes>"
      ]
     },
     "metadata": {
      "needs_background": "light"
     },
     "output_type": "display_data"
    }
   ],
   "source": [
    "plt.scatter(dfTime,dataFrame['total_deaths'])\n",
    "# plt.scatter(df_red['total_cases'],df_red['date'],c='red')\n",
    "plt.xlabel(\"date\")\n",
    "plt.ylabel(\"total_deaths\")\n",
    "show = plt.rcParams[\"figure.figsize\"] = (16,4)"
   ]
  },
  {
   "cell_type": "code",
   "execution_count": null,
   "id": "sunset-meeting",
   "metadata": {},
   "outputs": [],
   "source": []
  }
 ],
 "metadata": {
  "kernelspec": {
   "display_name": "Python 3",
   "language": "python",
   "name": "python3"
  },
  "language_info": {
   "codemirror_mode": {
    "name": "ipython",
    "version": 3
   },
   "file_extension": ".py",
   "mimetype": "text/x-python",
   "name": "python",
   "nbconvert_exporter": "python",
   "pygments_lexer": "ipython3",
   "version": "3.9.1"
  }
 },
 "nbformat": 4,
 "nbformat_minor": 5
}
